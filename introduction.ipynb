{
 "cells": [
  {
   "cell_type": "markdown",
   "metadata": {
    "slideshow": {
     "slide_type": "slide"
    }
   },
   "source": [
    "# Introduction\n",
    "\n",
    "Welcome to the introductory course for digital audio and video, codecs and streaming!\n"
   ]
  },
  {
   "cell_type": "markdown",
   "metadata": {
    "slideshow": {
     "slide_type": "slide"
    }
   },
   "source": [
    "## How is the world transformed into bits\n",
    "\n",
    "<img src=\"res/multimedia_architecture.drawio.png\" height=\"400\">"
   ]
  },
  {
   "cell_type": "markdown",
   "metadata": {
    "slideshow": {
     "slide_type": "slide"
    }
   },
   "source": [
    "## Analog to digital conversion\n",
    "\n",
    "The first step is the analog to digital conversion were we have a raw digital representation\n",
    "\n",
    "<img src=\"res/multimedia_architecture_adc.drawio.png\" height=\"400\">"
   ]
  },
  {
   "cell_type": "markdown",
   "metadata": {
    "slideshow": {
     "slide_type": "slide"
    }
   },
   "source": [
    "## Codecs: Encoders / Decoder\n",
    "\n",
    "\n",
    "A raw representation of video and audio has a very high bitrate.\n",
    "\n",
    "Encoders compress this information (most of the times loosing information in the process)\n",
    "\n",
    "Decoders decompress it again recreating the raw representation\n",
    "\n",
    "<img src=\"res/multimedia_architecture_codec.drawio.png\" height=\"400\">"
   ]
  },
  {
   "cell_type": "markdown",
   "metadata": {
    "slideshow": {
     "slide_type": "slide"
    }
   },
   "source": [
    "## Muxers / Demuxer\n",
    "\n",
    "\n",
    "\n",
    "<img src=\"res/multimedia_architecture_muxing.drawio.png\" height=\"400\">"
   ]
  },
  {
   "cell_type": "markdown",
   "metadata": {
    "slideshow": {
     "slide_type": "slide"
    }
   },
   "source": [
    "## Streaming: server / client\n",
    "\n",
    "<img src=\"res/multimedia_architecture_streaming.drawio.png\" height=\"400\">"
   ]
  },
  {
   "cell_type": "code",
   "execution_count": null,
   "metadata": {},
   "outputs": [],
   "source": []
  }
 ],
 "metadata": {
  "celltoolbar": "Slideshow",
  "kernelspec": {
   "display_name": "Python 3",
   "language": "python",
   "name": "python3"
  },
  "language_info": {
   "codemirror_mode": {
    "name": "ipython",
    "version": 3
   },
   "file_extension": ".py",
   "mimetype": "text/x-python",
   "name": "python",
   "nbconvert_exporter": "python",
   "pygments_lexer": "ipython3",
   "version": "3.7.7"
  }
 },
 "nbformat": 4,
 "nbformat_minor": 4
}
